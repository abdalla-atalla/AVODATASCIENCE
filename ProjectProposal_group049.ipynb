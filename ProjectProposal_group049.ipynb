{
 "cells": [
  {
   "cell_type": "markdown",
   "metadata": {},
   "source": [
    "# COGS 108 - Final Project Proposal"
   ]
  },
  {
   "cell_type": "markdown",
   "metadata": {},
   "source": [
    "# Names\n",
    "\n",
    "- Abdalla Atalla\n",
    "- Che-Yu Hou\n",
    "- Jason Wong\n",
    "- Tsun Wai Siu\n",
    "- William Chai\n"
   ]
  },
  {
   "cell_type": "markdown",
   "metadata": {},
   "source": [
    "# Research Question"
   ]
  },
  {
   "cell_type": "markdown",
   "metadata": {},
   "source": [
    "When is the best time to buy avocados in California? <br>\n",
    "More specifically what indications are significant that decide when is the best time to buy avocados."
   ]
  },
  {
   "cell_type": "markdown",
   "metadata": {},
   "source": [
    "## Background and Prior Work"
   ]
  },
  {
   "cell_type": "markdown",
   "metadata": {},
   "source": [
    "Avocados are quite the staple condiment for many meals that have flourished in the 21th century. It’s origin stems from south central Mexico, classifying as a member of the flowering plant family Lauraceae. The word “avocado” originated from the Spanish  aguacate, which comes from the Nahuatl word āhuacatl, which also goes back to the proto-Aztecan era. Sometimes, the Nahuatl would also use the word interchangeably to indicate “testicles”, due to the similar features. \n",
    "\n",
    "The presence that avocados have made in the states is quite impressive. As seen through the “Avocados eaten in the U.S. since 2000” graphical figure in the article “The rise of the avocado, America’s new favorite fruit”, there is a steady rise in the amount of avocados consumed over the years. Something that was once a fruit for the wealthier population given the right season has now become abundant to the general public to consume. A huge impact to how avocados became so widely available in the U.S. comes from America loosening their restrictions on Mexico. Due to the ban of transporting fruit from Mexico, it was left to America to produce the measly amount of avocados to the masses. Starting in the late 1990’s, Mexico was able to slowly increment the amount of avocados supplied into the U.S. From data obtained from the Hass Avocado Board, in 2014, it is shown that 85% of American avocados are imported. From the article, “When Are Avocados in Season”, Mexico’s avocados have peak season from November to April while the U.S. peaks are May to August. That’s only 2 months out of a year in which avocados are not in their peak season from either country, allowing there to be such a heavy demand and growth throughout our country.\n",
    "\n",
    "While the importation of avocados throughout the years is one of the key factors in the growing popularity, the influence of more Hispanic presence throughout the U.S. has also been a key factor. Tons of Mexican cuisine restaurants, which include their own variations of using avocados, have become a mainstream staple food in the eyes of many. For example, the franchise Chipotle, a Mexican cuisine fast food chain has hit the ball running. Their guacamole was such a staple to their brand that when a report mistakenly reported that Chipotle was running out, many individuals took upon themselves to comment on social media and make sure that Chipotle was able to save the guacamole. The inclusion of avocados into all sorts of cuisines sparks the interest of many consumers, as seen through Subways announcement in the ability to add avocado into one’s sandwich, traffic was seen to increase in Subways across the country. They are praised for their taste, where they are creamy enough to counteract acidity and spiciness and mild enough not to overpower other favors.\n",
    "\n",
    "Given that the general public enjoys these delectable fruits, it is also seen that avocados have health benefits attributed to them. Studies found in the “The rise of the avocado, America’s new favorite fruit” provide insightful information linking this fruit to healthier overall diets. It is proven to contain fats, but the kind of fat that is beneficial, monounsaturated fats.\n",
    "\n",
    "While the fruit used to be somewhat of a luxury privilege to eat and now has become easily accessible to all, we see a drastic increase in the price of the years. In the video and transcript of “Why avocados are so expensive”, prices of avocados have skyrocketed to as much as 129% in recent years. A huge impact of price is influenced by the amount of work and utilities need to produce said avocados. The amount of land, fertilizers, water, pruning, pest control, and many other costs, including the effects of mother nature fluctuate the market price. The ambiguity of weather causes a chance of diminished returns for farmers. Talking about price changes due to weather, in the article, “Record Heat And California Avocado Crops Not A Good Combination”, farmers are concerned as younger trees are stressed by drought, winds, and temperature. It will provide less of a chance that the farmers will have flourishing produce in the time of peak season, causing a shortage which would create more likelihood of price increase to satisfy the idea of scarcity creating high prices. With all the endorsement of avocados being this amazing superfood and all the hype around it, producers and sellers are given more wiggle room to spike up the price to their product that yields beneficial results for the masses. The more hype surrounding it, the more the product has this idea of being a miracle food that produces desirable results, and making it seem like a higher price is justified to achieve these said benefits.\n",
    "\n",
    "In these articles, we noticed that much of the data they were portraying was from the usage of graphs and charts to emphasize the general increasing trend of consumption of avocados. Some articles also link themselves to previous studies that help further their proof of evidence towards the information they claim. For our data, we are going for the same aesthetic of data portrayal through the use of line and bar graphs. They are easily understandable and able to show a big contrast within data given different sources. We are also going to try to have a more in-depth explanation of any resources we use for data analysis, instead of just linking the article source. \n",
    "\n",
    "\n",
    "References (include links):\n",
    "\n",
    "\n",
    "\n",
    "- 1) Why avocados are expensive <br>\n",
    "https://www.businessinsider.com/why-avocados-are-so-expensive-2019-10#:~:text=Avocado%20prices%20have%20rocketed%20in,keep%20up%20with%20high%20demand\n",
    "- 2) When Are Avocados in Season? The Imperfect Blog<br>\n",
    "http://blog.imperfectfoods.com/blog-1/2019/2/13/when-are-avocados-in-season\n",
    "- 3) The rise of the avocado, America’s new favorite fruit<br>\n",
    "https://www.washingtonpost.com/news/wonk/wp/2015/01/22/the-sudden-rise-of-the-avocado-americas-new-favorite-fruit/\n",
    "- 4) Record Heat And California Avocado Crops Not A Good Combination<br>\n",
    "https://genhvac.com/record-heat-and-california-avocado-crops-not-a-good-combination/ "
   ]
  },
  {
   "cell_type": "markdown",
   "metadata": {},
   "source": [
    "# Hypothesis\n"
   ]
  },
  {
   "cell_type": "markdown",
   "metadata": {},
   "source": [
    "We predict that the best time to buy avocados in California is early summer time around May to August. We predict as such because the peak season for avocados in the United States is around May to August. During the peak season, there will be more production and supply. The market will become more competitive, thus lowering the price. We also predict that the avocados on the market during this timeframe will be the freshest. As more avocados are being supplied to the market, grocery stores will have markdowns and sales to promote more avocado sales. Avocados are perishable with limited shelf life. Farmers need to push their products out to the market as soon as possible. It hurts the farmers if they have an excess of avocados in their inventory. Therefore, avocados farmers will sell their product at lower prices rather than taking a loss."
   ]
  },
  {
   "cell_type": "markdown",
   "metadata": {},
   "source": [
    "# Data"
   ]
  },
  {
   "cell_type": "markdown",
   "metadata": {},
   "source": [
    "Since we want to know when the best time is to buy avocados, we will focus on factors we think will affect the avocado production and prices. We think the potential impact of weather factors, such as average temperature, humidity, natural disasters, rainfall in each month, frequency of earthquakes, air quality, pH value of the rain, the amount of sunlight, ultraviolet rays exposure, the changes in wind speed, and atmospheric pressure all play an important role in the harvest of avocados. Weather heavily affects the harvest of any crops that are not grown in a greenhouse. We believe that we will be able to predict avocado harvest by studying the weather. The weather data is collected by a government entity called the National Climatic Data Center. We are interested only in the weather data in areas where avocado farms are more concentrated. Thus, we will also want data on which area in California has avocado farms. That way we can pinpoint those locations and study the weather in those areas. <br>\n",
    "\n",
    "We want to know about the avocado prices. Our ideal dataset will have avocado prices from different levels. We want to know how much avocados are sold per pound by the farmers to distributors, how much avocados are sold per pound by distributors to restaurants and grocery stores, and finally, the avocados price per pound sold to the end users. Our team is also interested in the harvest of avocados. We want to know how much avocados are harvested for each month by Californian avocado farmers. The data on avocado harvests and prices is available on the National Agricultural Statistics Service database and is available to the public. <br>\n",
    "\n",
    "We also want to know if corporates and farmers are injecting artificial factors to manipulate avocado prices. Corporates and unions are notorious at creating campaigns that promote sales. Sometimes these campaigns could be dishonest, and they fund specific research to make the respective products sound more beneficial than they are. We noticed that avocado is now considered a “superfood” and has been very trendy in recent years. Thus, we want to know how much money is spent in the avocado campaign. We will also study the food trend and health fad hoping to find the correlations between them and the avocado prices. <br>\n",
    "\n",
    "Our team is also interested in whether there are any impacts between government policies and avocado prices, or whether the government's environmental policies have led to changes in production. We want to find out if the government has manipulated the market price to protect farmers, or whether the government has chosen to help distributors and suppress the purchase of avocados.  <br>\n",
    "\n",
    "We wonder if the avocado industry is controlled by the richer and more powerful farmers. Some avocado growers, especially small-scale avocado farmers, are threatened by violent gangs and blackmailers. Criminal groups use all sort of methods such as blackmailing, theft, kidnapping, vandalization, and even murder to control the avocado market. Does this lead to a decrease in avocado production or the price rise? Our ideal data set will have data on incidents and police reports filed by avocado farmers.  <br>\n",
    "\n",
    "We are interested in data mentioned above that were collected within the state of California for the last decade (2010-2019). We want this dataset to be detailed enough to encompass every farmer, distributor, grocery store, restaurant, and end user in California. We will be storing all the data collected on GitHub. We believe that the GitHub repository would make sense since the data we collected is available to the public, it will not pose any issues regarding privacy."
   ]
  },
  {
   "cell_type": "markdown",
   "metadata": {},
   "source": [
    "# Ethics & Privacy"
   ]
  },
  {
   "cell_type": "markdown",
   "metadata": {},
   "source": [
    "An ethical concern for our project is that the result of our analysis could potentially be used by companies who want to make a profit so they may misinterpret our data to mislead customers. Although our analysis aims to find indicators that are significant to avocado prices, our data is coming from California state and companies’ sale reports, in order to get a general dataset that will not target any specific company or individual groups that may damage/benefit their business. Thus, our report would include an analysis of avocado’s prices that provides general information for public interests. \n",
    "\n",
    "From the data that we collect, we may see some biases in the type of data we collect. Our team may decide to use data that comes from certain articles or websites that may have biases in their data that could help them get more funding or sales for their products/businesses. Also we can see some bias in how our team decides to clean the data especially when choosing the sample or when deciding what is an outlier. This is because of the bias we have that carries over into the choices we make with the data. We have to be careful of our own biases when carrying out this project and we must assess and make known any biases we may have that can lead into our data. Some of these biases may be our own preference or views on our topic that can influence what data we choose or how we manipulate it.\n",
    "\n",
    "In terms of privacy, the data we used for farm locations and company details will be anonymized, and none of the data collected would compromise privacy at any time unless the data is public information. All the data that we used fall under these categories: companies/cities in California. The data did not include any personal information such as farmers names,ages and , or the geographic locations of farms. Therefore, the data was not particular targeting or subjected to any individuals or businesses that would lead to breach of confidentiality for farmers’ confidentiality or any individuals/organizations involved in the data collections.\n",
    "Our team would examine the terms and usage policy from the data providers, websites, and APIs. We would strictly follow the policies and limited our requests to avoid heavy uses. Therefore, we would request the data once and paused for half of a minute between each queries and visits to ensure that we were not violating the terms and usage policies.\n"
   ]
  },
  {
   "cell_type": "markdown",
   "metadata": {},
   "source": [
    "# Team Expectations "
   ]
  },
  {
   "cell_type": "markdown",
   "metadata": {},
   "source": [
    "We, Abdalla Atalla, Che-Yu Hou, Jason Wong, Tsun Wai Siu, and William Chai,\n",
    "have read the COGS108 Team Policies, accept our team’s expectations stated below, and have every intention to fulfill them.\n",
    "\n",
    "* *COGS108 Team Policies*\n",
    "\n",
    "    https://github.com/COGS108/Projects/blob/master/COGS108_TeamPolicies.md\n",
    "\n",
    "\n",
    "* *Be responsible on assigned tasks*\n",
    "\n",
    "    You are expected to complete all the tasks you are assigned. You will attend the team meeting at least once a week and report your progress on Discord every Monday and Wednesday. \n",
    "\n",
    "\n",
    "* *Respect each other*\n",
    "    \n",
    "    You are expected to respect each other and speak in respectful language during the discussions. Avoid the discussion of sensitive, controversial, and offensive topics during any meetings. If any conflicts arise, we will use the anonymous poll to resolve the conflicts. The result of the poll must be respected and cannot be disputed.\n",
    "\n",
    "\n",
    "* *Be willing to help each other*\n",
    "    \n",
    "    You are expected to be willing to help out other teammates aside from your assigned tasks. Understand that each team member came from a different background and you are expected not to belittle others under any circumstances.\n",
    "\n",
    "\n",
    "* *Be honest and embrace Academic Integrity*\n",
    "\n",
    "    You are expected to follow UCSD’s Academic Integrity policies. You will be entirely transparent with your work and provide sources of your research to the team. \n"
   ]
  },
  {
   "cell_type": "markdown",
   "metadata": {},
   "source": [
    "# Project Timeline Proposal"
   ]
  },
  {
   "cell_type": "markdown",
   "metadata": {},
   "source": [
    "| Meeting Date  | Meeting Time| Completed Before Meeting  | Discuss at Meeting |\n",
    "|---|---|---|---|\n",
    "| 1/15  |  7 PM | Meet & Greet; Read & Think about COGS 108 expectations | Determine best form of communication - Agreed on Discord and Zoom; Vote on the team lead; Begin brainstorming and research on possible research topics. | \n",
    "| 1/20  |  7 PM | Each teammate records their ideas on shared Google Doc. | Discuss ideal dataset(s) and ethics; Discuss, vote, and decide on final project topic; discuss hypothesis; | \n",
    "| 1/25  | 7 PM  | Each teammate completes their portion of the project proposal. | Draft project proposal; Proofread and improve upon the project proposal; Assign tasks and roles to each teammate. |\n",
    "| 1/27  | 7 PM  | Check with TA for proposal details | Finalize project proposal. Discuss on what datasets could be useful.  |\n",
    "| 2/3  | 7 PM  | Search for datasets | Go over the datasets and discuss with each other. Decide on what datasets we will be including in the project.|\n",
    "| 2/10  | 7 PM  | Brainstorm for analysis| Discuss Wrangling and possible analytical approaches; Assign group members to lead each specific part |\n",
    "| 2/15  | 7 PM  | Import & Wrangle Data (Jason); EDA (Che-Yu) | Review/Edit wrangling/EDA; Discuss Analysis Plan|\n",
    "| 2/22  | 7 PM  | Finalize wrangling/EDA; Begin Analysis (Abdalla; William) | Discuss/edit Analysis; Complete project check-in |\n",
    "| 2/29  | 7 PM  | Complete analysis; Draft results/conclusion/discussion (Tsun Wai) | Discuss/edit full project |\n",
    "| 3/19  | Before 11:59 PM  | NA | Turn in Final Project & Group Project Surveys |\n",
    "\n",
    "\n",
    "\n"
   ]
  }
 ],
 "metadata": {
  "kernelspec": {
   "display_name": "Python 3",
   "language": "python",
   "name": "python3"
  },
  "language_info": {
   "codemirror_mode": {
    "name": "ipython",
    "version": 3
   },
   "file_extension": ".py",
   "mimetype": "text/x-python",
   "name": "python",
   "nbconvert_exporter": "python",
   "pygments_lexer": "ipython3",
   "version": "3.7.6"
  }
 },
 "nbformat": 4,
 "nbformat_minor": 2
}
