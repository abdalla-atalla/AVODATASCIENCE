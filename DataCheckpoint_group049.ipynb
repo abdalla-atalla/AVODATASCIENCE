{
 "cells": [
  {
   "cell_type": "markdown",
   "metadata": {},
   "source": [
    "# COGS 108 - Data Checkpoint"
   ]
  },
  {
   "cell_type": "markdown",
   "metadata": {},
   "source": [
    "# Names\n",
    "\n",
    "- Abdalla Atalla\n",
    "- Che-Yu Hou\n",
    "- Jason Wong\n",
    "- Tsun Wai Siu\n",
    "- William Chai"
   ]
  },
  {
   "cell_type": "markdown",
   "metadata": {},
   "source": [
    "<a id='research_question'></a>\n",
    "# Research Question"
   ]
  },
  {
   "cell_type": "markdown",
   "metadata": {},
   "source": [
    "When is the best time to buy avocados in California? More specifically what indications are significant that decide when is the best time to buy avocados."
   ]
  },
  {
   "cell_type": "markdown",
   "metadata": {},
   "source": [
    "# Dataset(s)"
   ]
  },
  {
   "cell_type": "markdown",
   "metadata": {},
   "source": [
    "\n",
    "Dataset Name: USDA/NASS Agricultural Statistics for Avocado<br>\n",
    "Link to the dataset: https://quickstats.nass.usda.gov/results/B42F76E3-98BA-3F58-9361-6C04EA834145<br>\n",
    "Number of observations: 326<br>\n",
    "\n",
    "This data is gathered by the National Agricultural Statistics Services under the United States Department of Agriculture. The dataset contains information about avocados harvested and sold in the United states from 2010-2019. The dataset contains the production data by pounds. It also contains sales data by pounds and money value for organic and non-organic avocados. \n",
    "\n",
    "Dataset Name: Avocado Prices<br>\n",
    "Link to the dataset: https://www.kaggle.com/neuromusic/avocado-prices<br>\n",
    "Number of observations: 52<br>\n",
    "\n",
    "This data is gathered from the Hass Avocado Board and compiled into a dataset. The data set represents weekly retail sales data for small, large, and extra large Hass avocados in volume and price from 2015-2018. Hass Avocado Board describes retail as  “grocery, mass, club, drug, dollar, and military [stores]”.\n"
   ]
  },
  {
   "cell_type": "markdown",
   "metadata": {},
   "source": [
    "# Setup"
   ]
  },
  {
   "cell_type": "code",
   "execution_count": 1,
   "metadata": {},
   "outputs": [],
   "source": [
    "import pandas as pd\n",
    "import numpy as np\n",
    "import seaborn as sns\n",
    " \n",
    "import matplotlib as mpl\n",
    "import matplotlib.pyplot as plt\n",
    "import matplotlib.style as style\n",
    " \n",
    " \n",
    "from scipy.stats import uniform\n",
    "from scipy.stats import norm\n",
    "from scipy.stats import bernoulli\n",
    "from scipy.stats import poisson\n",
    "sns.set(font_scale=2, style=\"white\")\n",
    "%config InlineBackend.figure_format = 'retina'"
   ]
  },
  {
   "cell_type": "markdown",
   "metadata": {},
   "source": [
    "# Data Cleaning"
   ]
  },
  {
   "cell_type": "markdown",
   "metadata": {},
   "source": [
    "Describe your data cleaning steps here."
   ]
  },
  {
   "cell_type": "markdown",
   "metadata": {},
   "source": [
    "-Look for null values and determine why they are null and make a decision whether to keep those values or not.\n",
    "\n",
    "-Since the dataset in USDA are containing the bearing acres and other variables are not related to the parameters that we are interested in, we would utilize a dataframe in pandas to drop those unnecessary observations and filter into dataframe that combining the production in tons of avocados and the trending of prices.\n"
   ]
  },
  {
   "cell_type": "markdown",
   "metadata": {},
   "source": [
    "# Project Proposal (updated)"
   ]
  },
  {
   "cell_type": "markdown",
   "metadata": {},
   "source": [
    "| Meeting Date  | Meeting Time| Completed Before Meeting  | Discuss at Meeting |\n",
    "|---|---|---|---|\n",
    "| 1/20  |  1 PM | Read & Think about COGS 108 expectations; brainstorm topics/questions  | Determine best form of communication; Discuss and decide on final project topic; discuss hypothesis; begin background research | \n",
    "| 1/26  |  10 AM |  Do background research on topic | Discuss ideal dataset(s) and ethics; draft project proposal | \n",
    "| 2/1  | 10 AM  | Edit, finalize, and submit proposal; Search for datasets  | Discuss Wrangling and possible analytical approaches; Assign group members to lead each specific part   |\n",
    "| 2/14  | 6 PM  | Import & Wrangle Data (Ant Man); EDA (Hulk) | Review/Edit wrangling/EDA; Discuss Analysis Plan   |\n",
    "| 2/23  | 12 PM  | Finalize wrangling/EDA; Begin Analysis (Iron Man; Thor) | Discuss/edit Analysis; Complete project check-in |\n",
    "| 3/13  | 12 PM  | Complete analysis; Draft results/conclusion/discussion (Wasp)| Discuss/edit full project |\n",
    "| 3/19  | Before 11:59 PM  | NA | Turn in Final Project & Group Project Surveys |"
   ]
  }
 ],
 "metadata": {
  "kernelspec": {
   "display_name": "Python 3",
   "language": "python",
   "name": "python3"
  },
  "language_info": {
   "codemirror_mode": {
    "name": "ipython",
    "version": 3
   },
   "file_extension": ".py",
   "mimetype": "text/x-python",
   "name": "python",
   "nbconvert_exporter": "python",
   "pygments_lexer": "ipython3",
   "version": "3.8.5"
  }
 },
 "nbformat": 4,
 "nbformat_minor": 2
}
